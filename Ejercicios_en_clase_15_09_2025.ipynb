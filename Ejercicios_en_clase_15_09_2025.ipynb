{
  "nbformat": 4,
  "nbformat_minor": 0,
  "metadata": {
    "colab": {
      "provenance": [],
      "authorship_tag": "ABX9TyOsv84GFDIplaF0385bQn8M",
      "include_colab_link": true
    },
    "kernelspec": {
      "name": "python3",
      "display_name": "Python 3"
    },
    "language_info": {
      "name": "python"
    }
  },
  "cells": [
    {
      "cell_type": "markdown",
      "metadata": {
        "id": "view-in-github",
        "colab_type": "text"
      },
      "source": [
        "<a href=\"https://colab.research.google.com/github/Jjimenez124/FUNPRO/blob/main/Ejercicios_en_clase_15_09_2025.ipynb\" target=\"_parent\"><img src=\"https://colab.research.google.com/assets/colab-badge.svg\" alt=\"Open In Colab\"/></a>"
      ]
    },
    {
      "cell_type": "code",
      "execution_count": 2,
      "metadata": {
        "colab": {
          "base_uri": "https://localhost:8080/"
        },
        "id": "Ub01QxnSuxN9",
        "outputId": "7cff9002-d15a-4264-bc66-be8da6df99ae"
      },
      "outputs": [
        {
          "output_type": "stream",
          "name": "stdout",
          "text": [
            "Ingrese el sueldo del empleado: 900\n",
            "1035.0\n"
          ]
        }
      ],
      "source": [
        "sueldo=int(input(\"Ingrese el sueldo del empleado: \"))\n",
        "if sueldo <= 1000:\n",
        "  sueldo=sueldo+(sueldo*0.15)\n",
        "else:\n",
        "  sueldo=sueldo+(sueldo*0.12)\n",
        "print(sueldo)"
      ]
    },
    {
      "cell_type": "code",
      "source": [
        "cal=float(input(\"Ingrese la calificacion: \"))\n",
        "if cal > 3.2:\n",
        "  print(\"Aprobó\")\n",
        "else:\n",
        "  print(\"No Aprobó\")"
      ],
      "metadata": {
        "colab": {
          "base_uri": "https://localhost:8080/"
        },
        "id": "aHbMFVlky4-R",
        "outputId": "73818a05-9571-4bf8-ad4c-f23c354ff521"
      },
      "execution_count": 4,
      "outputs": [
        {
          "output_type": "stream",
          "name": "stdout",
          "text": [
            "Ingrese la calificacion: 5.0\n",
            "Aprobó\n"
          ]
        }
      ]
    }
  ]
}