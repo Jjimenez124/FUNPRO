{
  "nbformat": 4,
  "nbformat_minor": 0,
  "metadata": {
    "colab": {
      "provenance": []
    },
    "kernelspec": {
      "name": "python3",
      "display_name": "Python 3"
    },
    "language_info": {
      "name": "python"
    }
  },
  "cells": [
    {
      "cell_type": "markdown",
      "source": [
        "#ESTRUCTURAS DE SELECCION:\n",
        "1. Estructura si/entonces - if/else\n",
        "2. Estructura si/sino/entonces - if/elif/else\n",
        "3. Estructura de seleccion multiple - case\n"
      ],
      "metadata": {
        "id": "Yqf_B9EBSDxd"
      }
    },
    {
      "cell_type": "markdown",
      "source": [
        "##Estructura si/entonces - if/else\n",
        "Sirve para evalua una condicion. Estas condiciones daran un valor de verdad o buleano\n",
        "Sintaxis\n",
        "```\n",
        "if (condicion):\n",
        "Instrucciones si la condicion en verdaderae\n",
        "else:\n",
        "Instrucciones si la condicion es falsa\n",
        "```"
      ],
      "metadata": {
        "id": "ArF_bIQuUHej"
      }
    },
    {
      "cell_type": "code",
      "execution_count": 15,
      "metadata": {
        "colab": {
          "base_uri": "https://localhost:8080/"
        },
        "id": "OYI4bnpwRqwi",
        "outputId": "78703ec4-ae87-4f56-b142-eecf6e7cfc09"
      },
      "outputs": [
        {
          "output_type": "stream",
          "name": "stdout",
          "text": [
            "Detecto poca gasolina en el tanque\n",
            "Desea ir a la gasolinera mas cercana?\n",
            "si\n",
            "Ir a la gaolinera mas cercana\n"
          ]
        }
      ],
      "source": [
        "#Ejemplo1: IA para gasolina\n",
        "respuesta=\"\"#declaramos una variable como caracter\n",
        "#para imprimir usamos el comando print\n",
        "print(\"Detecto poca gasolina en el tanque\")\n",
        "print(\"Desea ir a la gasolinera mas cercana?\")\n",
        "#funcion input para leer la respuesta\n",
        "respuesta=input()\n",
        "if respuesta==\"si\":\n",
        "  print(\"Ir a la gaolinera mas cercana\")\n",
        "else:\n",
        "  print(\"continuar\")"
      ]
    },
    {
      "cell_type": "code",
      "source": [
        "respuesta=input(\"Detecto poca gasolina en el tanque\\nDeseair a la gasolinera mas cescana?\")"
      ],
      "metadata": {
        "colab": {
          "base_uri": "https://localhost:8080/"
        },
        "id": "K_8QaNgPd1Bq",
        "outputId": "b1ae688e-aee1-459b-c011-0241ac3a8505"
      },
      "execution_count": 16,
      "outputs": [
        {
          "name": "stdout",
          "output_type": "stream",
          "text": [
            "Detecto poca gasolina en el tanque\n",
            "Deseair a la gasolinera mas cescana?si\n"
          ]
        }
      ]
    },
    {
      "cell_type": "code",
      "source": [
        "if respuesta==\"si\":\n",
        "  print(\"Ir a la gaolinera mas cercana\")\n",
        "else:\n",
        "  print(\"continuar\")"
      ],
      "metadata": {
        "colab": {
          "base_uri": "https://localhost:8080/"
        },
        "id": "n4Ca6qIvdKwa",
        "outputId": "08052580-c080-4e50-b3be-ac8e96432b28"
      },
      "execution_count": 17,
      "outputs": [
        {
          "output_type": "stream",
          "name": "stdout",
          "text": [
            "Ir a la gaolinera mas cercana\n"
          ]
        }
      ]
    },
    {
      "cell_type": "code",
      "source": [
        "import random\n",
        "gasolina=random.randint(1,100)\n",
        "if gasolina<=10:\n",
        "  respuesta=input(\"Detecto poca gasolina en el tanque\\nDeseair a la gasolinera mas cescana?\")\n",
        "  if respuesta==\"si\":\n",
        "    print(\"Ir a la gasolinera mas cercana\")\n",
        "  else:\n",
        "    print(\"Seguimos derecho\")\n",
        "else:\n",
        "  print(\"Seguimos derecho\")\n"
      ],
      "metadata": {
        "colab": {
          "base_uri": "https://localhost:8080/"
        },
        "id": "EkNKbAmKgsJ4",
        "outputId": "593227c7-fc5e-491b-9d4d-e684166f442b"
      },
      "execution_count": 62,
      "outputs": [
        {
          "output_type": "stream",
          "name": "stdout",
          "text": [
            "Detecto poca gasolina en el tanque\n",
            "Deseair a la gasolinera mas cescana?si\n",
            "Ir a la gasolinera mas cercana\n"
          ]
        }
      ]
    }
  ]
}