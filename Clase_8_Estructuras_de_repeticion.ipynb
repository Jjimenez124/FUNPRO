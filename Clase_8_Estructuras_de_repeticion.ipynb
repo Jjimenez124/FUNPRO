{
  "nbformat": 4,
  "nbformat_minor": 0,
  "metadata": {
    "colab": {
      "provenance": [],
      "authorship_tag": "ABX9TyNJSpVCPT3pFT6hpL73kW7f",
      "include_colab_link": true
    },
    "kernelspec": {
      "name": "python3",
      "display_name": "Python 3"
    },
    "language_info": {
      "name": "python"
    }
  },
  "cells": [
    {
      "cell_type": "markdown",
      "metadata": {
        "id": "view-in-github",
        "colab_type": "text"
      },
      "source": [
        "<a href=\"https://colab.research.google.com/github/Jjimenez124/FUNPRO/blob/main/Clase_8_Estructuras_de_repeticion.ipynb\" target=\"_parent\"><img src=\"https://colab.research.google.com/assets/colab-badge.svg\" alt=\"Open In Colab\"/></a>"
      ]
    },
    {
      "cell_type": "markdown",
      "source": [
        "##Estructura PARA\n",
        "* La estructura se emplea cuando se sabe cuatas veces se repita un accion.\n",
        "\n",
        "Sintaxis\n",
        "```\n",
        "for (variable) in range(VI, VF, PASOS):\n",
        "  accion se repite en VI A VF\n",
        "```\n"
      ],
      "metadata": {
        "id": "T0I4DjsmsqG0"
      }
    },
    {
      "cell_type": "markdown",
      "source": [],
      "metadata": {
        "id": "gr6Kh53hiPeZ"
      }
    },
    {
      "cell_type": "code",
      "execution_count": null,
      "metadata": {
        "colab": {
          "base_uri": "https://localhost:8080/"
        },
        "id": "3yPUkGH0sRNi",
        "outputId": "bfffa64b-17e5-4005-ecf0-59f85dac3f07"
      },
      "outputs": [
        {
          "output_type": "stream",
          "name": "stdout",
          "text": [
            "Ingrese la cantidad de empleados: 3\n",
            "Ingrese el salario del empleado 1:10\n",
            "Ingrese el salario del empleado 2:20\n",
            "Ingrese el salario del empleado 3:5\n",
            "la nomina de 3 empleados es: $35\n"
          ]
        }
      ],
      "source": [
        "#Hacer un programa que calcule la n empleados\n",
        "nomina=0\n",
        "n=int(input(\"Ingrese la cantidad de empleados: \"))\n",
        "for s in range(1,n+1,1):\n",
        "  sueldo=int(input(f\"Ingrese el salario del empleado {s}:\"))\n",
        "  nomina=nomina+sueldo #Acumulador\n",
        "print(f\"la nomina de {n} empleados es: ${nomina}\")"
      ]
    },
    {
      "cell_type": "markdown",
      "source": [],
      "metadata": {
        "id": "CQi6RUTXhq1j"
      }
    },
    {
      "cell_type": "code",
      "execution_count": null,
      "metadata": {
        "colab": {
          "base_uri": "https://localhost:8080/"
        },
        "outputId": "96a66289-dd10-4fa1-bbee-def9ceb6fa5c",
        "id": "aI0EY-4Fv_M6"
      },
      "outputs": [
        {
          "output_type": "stream",
          "name": "stdout",
          "text": [
            "Ingrese la cantidad de empleados: 3\n",
            "Ingrese el salario del empleado 1: 2000000\n",
            "Ingrese el salario del empleado 2: 3000000\n",
            "Ingrese el salario del empleado 3: 4000000\n",
            "la nomina de 3 empleados es: $9000000\n"
          ]
        }
      ],
      "source": [
        "#Hacer un programa que calcule la n empleados\n",
        "nomina=0\n",
        "n=int(input(\"Ingrese la cantidad de empleados: \"))\n",
        "for s in range(n):\n",
        "  sueldo=int(input(f\"Ingrese el salario del empleado {s+1}: \"))\n",
        "  nomina=nomina+sueldo #Acumulador\n",
        "print(f\"la nomina de {n} empleados es: ${nomina}\")"
      ]
    }
  ]
}