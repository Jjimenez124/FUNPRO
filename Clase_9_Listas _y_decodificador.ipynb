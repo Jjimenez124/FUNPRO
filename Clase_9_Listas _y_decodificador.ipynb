{
  "nbformat": 4,
  "nbformat_minor": 0,
  "metadata": {
    "colab": {
      "provenance": [],
      "authorship_tag": "ABX9TyMc2p8fIm5Cnu6FREs6mDJi",
      "include_colab_link": true
    },
    "kernelspec": {
      "name": "python3",
      "display_name": "Python 3"
    },
    "language_info": {
      "name": "python"
    }
  },
  "cells": [
    {
      "cell_type": "markdown",
      "metadata": {
        "id": "view-in-github",
        "colab_type": "text"
      },
      "source": [
        "<a href=\"https://colab.research.google.com/github/Jjimenez124/FUNPRO/blob/main/Clase_9_Listas%20_y_decodificador.ipynb\" target=\"_parent\"><img src=\"https://colab.research.google.com/assets/colab-badge.svg\" alt=\"Open In Colab\"/></a>"
      ]
    },
    {
      "cell_type": "code",
      "execution_count": null,
      "metadata": {
        "colab": {
          "base_uri": "https://localhost:8080/"
        },
        "id": "XtXCHokzEQ3P",
        "outputId": "dafc40c9-5c1c-4097-cfc2-4246527372a6"
      },
      "outputs": [
        {
          "name": "stdout",
          "output_type": "stream",
          "text": [
            "Ingrese la nota 1: 4\n",
            "Ingrese la nota 2: 4\n",
            "Ingrese la nota 3: 0\n",
            "Ingrese la nota 4: 1\n",
            "Ingrese la nota 5: 2\n"
          ]
        }
      ],
      "source": [
        "m=0.0\n",
        "v=0\n",
        "notas=[]\n",
        "for e in range(5):\n",
        "  v=float(input(f\"Ingrese la nota {e+1}: \"))\n",
        "  notas.append(v)\n",
        "\n",
        "\n"
      ]
    },
    {
      "cell_type": "code",
      "source": [
        "notas"
      ],
      "metadata": {
        "colab": {
          "base_uri": "https://localhost:8080/"
        },
        "id": "X8yt4clfNHqa",
        "outputId": "3aa2a7b6-0f1d-43b6-a2e0-41be5662db2f"
      },
      "execution_count": null,
      "outputs": [
        {
          "output_type": "execute_result",
          "data": {
            "text/plain": [
              "[4.0, 4.0, 0.0, 1.0, 2.0]"
            ]
          },
          "metadata": {},
          "execution_count": 25
        }
      ]
    },
    {
      "cell_type": "code",
      "source": [
        "notas[0]"
      ],
      "metadata": {
        "colab": {
          "base_uri": "https://localhost:8080/"
        },
        "id": "Y50frljANZnS",
        "outputId": "72051f1a-5e3c-4651-eef4-1fc505f8c8f4"
      },
      "execution_count": null,
      "outputs": [
        {
          "output_type": "execute_result",
          "data": {
            "text/plain": [
              "4.0"
            ]
          },
          "metadata": {},
          "execution_count": 27
        }
      ]
    },
    {
      "cell_type": "code",
      "source": [
        "for a in range(5):\n",
        "  print(f\"Nota a reemplazar: {notas[a]}\")\n",
        "  if notas[0]<notas[a]:\n",
        "    print(f\"Se sobreescribe con la nota {notas[a]}\")\n",
        "    m=notas[a]\n",
        "  else:\n",
        "    m=notas[0]\n",
        "  #print(m)"
      ],
      "metadata": {
        "colab": {
          "base_uri": "https://localhost:8080/",
          "height": 211
        },
        "id": "rCt7yuGCMrkr",
        "outputId": "2f737b7a-9caa-428e-e135-0f28d194bb89"
      },
      "execution_count": null,
      "outputs": [
        {
          "output_type": "error",
          "ename": "TypeError",
          "evalue": "'float' object is not callable",
          "traceback": [
            "\u001b[0;31m---------------------------------------------------------------------------\u001b[0m",
            "\u001b[0;31mTypeError\u001b[0m                                 Traceback (most recent call last)",
            "\u001b[0;32m/tmp/ipython-input-2210245878.py\u001b[0m in \u001b[0;36m<cell line: 0>\u001b[0;34m()\u001b[0m\n\u001b[1;32m      1\u001b[0m \u001b[0;32mfor\u001b[0m \u001b[0ma\u001b[0m \u001b[0;32min\u001b[0m \u001b[0mrange\u001b[0m\u001b[0;34m(\u001b[0m\u001b[0;36m5\u001b[0m\u001b[0;34m)\u001b[0m\u001b[0;34m:\u001b[0m\u001b[0;34m\u001b[0m\u001b[0;34m\u001b[0m\u001b[0m\n\u001b[0;32m----> 2\u001b[0;31m   \u001b[0mprint\u001b[0m\u001b[0;34m(\u001b[0m\u001b[0;34mf\"Nota a reemplazar: {notas[a]}\"\u001b[0m\u001b[0;34m)\u001b[0m\u001b[0;34m\u001b[0m\u001b[0;34m\u001b[0m\u001b[0m\n\u001b[0m\u001b[1;32m      3\u001b[0m   \u001b[0;32mif\u001b[0m \u001b[0mnotas\u001b[0m\u001b[0;34m[\u001b[0m\u001b[0;36m0\u001b[0m\u001b[0;34m]\u001b[0m\u001b[0;34m<\u001b[0m\u001b[0mnotas\u001b[0m\u001b[0;34m[\u001b[0m\u001b[0ma\u001b[0m\u001b[0;34m]\u001b[0m\u001b[0;34m:\u001b[0m\u001b[0;34m\u001b[0m\u001b[0;34m\u001b[0m\u001b[0m\n\u001b[1;32m      4\u001b[0m     \u001b[0mprint\u001b[0m\u001b[0;34m(\u001b[0m\u001b[0;34mf\"Se sobreescribe con la nota {notas[a]}\"\u001b[0m\u001b[0;34m)\u001b[0m\u001b[0;34m\u001b[0m\u001b[0;34m\u001b[0m\u001b[0m\n\u001b[1;32m      5\u001b[0m     \u001b[0mm\u001b[0m\u001b[0;34m=\u001b[0m\u001b[0mnotas\u001b[0m\u001b[0;34m[\u001b[0m\u001b[0ma\u001b[0m\u001b[0;34m]\u001b[0m\u001b[0;34m\u001b[0m\u001b[0;34m\u001b[0m\u001b[0m\n",
            "\u001b[0;31mTypeError\u001b[0m: 'float' object is not callable"
          ]
        }
      ]
    },
    {
      "cell_type": "code",
      "source": [
        "frase.replace(letra,\"i\")"
      ],
      "metadata": {
        "colab": {
          "base_uri": "https://localhost:8080/",
          "height": 35
        },
        "id": "NOcRXHAEvTgR",
        "outputId": "ef6173cc-970f-48e1-e5f4-dcd9e36e2736"
      },
      "execution_count": null,
      "outputs": [
        {
          "output_type": "execute_result",
          "data": {
            "text/plain": [
              "'Holi, como estis'"
            ],
            "application/vnd.google.colaboratory.intrinsic+json": {
              "type": "string"
            }
          },
          "metadata": {},
          "execution_count": 3
        }
      ]
    },
    {
      "cell_type": "code",
      "source": [
        "#Ejercicio 1: 1000xp\n",
        "#Si aparece una vocal debe correrse dos hacia la derecha\n",
        "a=\"Hola, cómo estós\"\n",
        "resultado=\"\"\n",
        "for letra in range(len(a)):\n",
        "  if a[letra]==\"a\":\n",
        "    resultado=resultado+\"i\"\n",
        "  elif a[letra]==\"e\":\n",
        "    resultado=resultado+\"o\"\n",
        "  elif a[letra]==\"i\":\n",
        "    resultado=resultado+\"u\"\n",
        "  elif a[letra]==\"o\":\n",
        "    resultado=resultado+\"a\"\n",
        "  elif a[letra]==\"u\":\n",
        "    resultado=resultado+\"e\"\n",
        "  else:\n",
        "    resultado=resultado+a[letra]\n",
        "print(resultado)"
      ],
      "metadata": {
        "colab": {
          "base_uri": "https://localhost:8080/"
        },
        "id": "oLLCRsHFsb5L",
        "outputId": "e97018c9-41af-4852-be33-75ee730c798d"
      },
      "execution_count": null,
      "outputs": [
        {
          "output_type": "stream",
          "name": "stdout",
          "text": [
            "Hali, cóma ostós\n"
          ]
        }
      ]
    },
    {
      "cell_type": "code",
      "source": [
        "#Por 1000xp: lograr que si entra gaki salga hola\n",
        "#vocales: a, e, i, o, u\n",
        "#consonantes: b, c, d, f, g, h, j, k, l, m, n, ñ, p, q, r, s, t, v, w, x, y, z\n",
        "a=input(\"\")\n",
        "resultado=\"\"\n",
        "for letra in range(len(a)):\n",
        "  if a[letra]==\"a\":\n",
        "    resultado=resultado+\"o\"\n",
        "  elif a[letra]==\"e\":\n",
        "    resultado=resultado+\"u\"\n",
        "  elif a[letra]==\"i\":\n",
        "    resultado=resultado+\"a\"\n",
        "  elif a[letra]==\"o\":\n",
        "    resultado=resultado+\"e\"\n",
        "  elif a[letra]==\"u\":\n",
        "    resultado=resultado+\"i\"\n",
        "  elif a[letra]==\"b\":\n",
        "    resultado=resultado+\"c\"\n",
        "  elif a[letra]==\"c\":\n",
        "    resultado=resultado+\"d\"\n",
        "  elif a[letra]==\"d\":\n",
        "    resultado=resultado+\"f\"\n",
        "  elif a[letra]==\"f\":\n",
        "    resultado=resultado+\"g\"\n",
        "  elif a[letra]==\"g\":\n",
        "    resultado=resultado+\"h\"\n",
        "  elif a[letra]==\"h\":\n",
        "    resultado=resultado+\"j\"\n",
        "  elif a[letra]==\"j\":\n",
        "    resultado=resultado+\"k\"\n",
        "  elif a[letra]==\"k\":\n",
        "    resultado=resultado+\"l\"\n",
        "  elif a[letra]==\"l\":\n",
        "    resultado=resultado+\"m\"\n",
        "  elif a[letra]==\"m\":\n",
        "    resultado=resultado+\"l\"\n",
        "  elif a[letra]==\"n\":\n",
        "    resultado=resultado+\"ñ\"\n",
        "  elif a[letra]==\"ñ\":\n",
        "    resultado=resultado+\"p\"\n",
        "  elif a[letra]==\"p\":\n",
        "    resultado=resultado+\"q\"\n",
        "  elif a[letra]==\"q\":\n",
        "    resultado=resultado+\"r\"\n",
        "  elif a[letra]==\"r\":\n",
        "    resultado=resultado+\"s\"\n",
        "  elif a[letra]==\"s\":\n",
        "    resultado=resultado+\"t\"\n",
        "  elif a[letra]==\"t\":\n",
        "    resultado=resultado+\"v\"\n",
        "  elif a[letra]==\"v\":\n",
        "    resultado=resultado+\"w\"\n",
        "  elif a[letra]==\"w\":\n",
        "    resultado=resultado+\"x\"\n",
        "  elif a[letra]==\"x\":\n",
        "    resultado=resultado+\"y\"\n",
        "  elif a[letra]==\"y\":\n",
        "    resultado=resultado+\"z\"\n",
        "  elif a[letra]==\"z\":\n",
        "    resultado=resultado+\"b\"\n",
        "  else:\n",
        "    resultado=resultado+a[letra]\n",
        "print(resultado)"
      ],
      "metadata": {
        "colab": {
          "base_uri": "https://localhost:8080/"
        },
        "id": "cs4eLSqY1-sj",
        "outputId": "b81d8599-4607-494b-9594-0032a22d4a15"
      },
      "execution_count": 1,
      "outputs": [
        {
          "output_type": "stream",
          "name": "stdout",
          "text": [
            "gaki\n",
            "hola\n"
          ]
        }
      ]
    }
  ]
}